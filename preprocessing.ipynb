{
 "cells": [
  {
   "cell_type": "code",
   "outputs": [],
   "source": [
    "import pandas as pd\n",
    "import numpy as np\n",
    "import matplotlib.pyplot as plt"
   ],
   "metadata": {
    "collapsed": false,
    "ExecuteTime": {
     "end_time": "2024-03-31T17:32:11.247546Z",
     "start_time": "2024-03-31T17:32:09.616161Z"
    }
   },
   "execution_count": 2
  },
  {
   "cell_type": "code",
   "outputs": [
    {
     "data": {
      "text/plain": "   index Patient Id  Age  Gender  Air Pollution  Alcohol use  Dust Allergy  \\\n0      0         P1   33       1              2            4             5   \n1      1        P10   17       1              3            1             5   \n2      2       P100   35       1              4            5             6   \n3      3      P1000   37       1              7            7             7   \n4      4       P101   46       1              6            8             7   \n\n   OccuPational Hazards  Genetic Risk  chronic Lung Disease  ...  Fatigue  \\\n0                     4             3                     2  ...        3   \n1                     3             4                     2  ...        1   \n2                     5             5                     4  ...        8   \n3                     7             6                     7  ...        4   \n4                     7             7                     6  ...        3   \n\n   Weight Loss  Shortness of Breath  Wheezing  Swallowing Difficulty  \\\n0            4                    2         2                      3   \n1            3                    7         8                      6   \n2            7                    9         2                      1   \n3            2                    3         1                      4   \n4            2                    4         1                      4   \n\n   Clubbing of Finger Nails  Frequent Cold  Dry Cough  Snoring   Level  \n0                         1              2          3        4     Low  \n1                         2              1          7        2  Medium  \n2                         4              6          7        2    High  \n3                         5              6          7        5    High  \n4                         2              4          2        3    High  \n\n[5 rows x 26 columns]",
      "text/html": "<div>\n<style scoped>\n    .dataframe tbody tr th:only-of-type {\n        vertical-align: middle;\n    }\n\n    .dataframe tbody tr th {\n        vertical-align: top;\n    }\n\n    .dataframe thead th {\n        text-align: right;\n    }\n</style>\n<table border=\"1\" class=\"dataframe\">\n  <thead>\n    <tr style=\"text-align: right;\">\n      <th></th>\n      <th>index</th>\n      <th>Patient Id</th>\n      <th>Age</th>\n      <th>Gender</th>\n      <th>Air Pollution</th>\n      <th>Alcohol use</th>\n      <th>Dust Allergy</th>\n      <th>OccuPational Hazards</th>\n      <th>Genetic Risk</th>\n      <th>chronic Lung Disease</th>\n      <th>...</th>\n      <th>Fatigue</th>\n      <th>Weight Loss</th>\n      <th>Shortness of Breath</th>\n      <th>Wheezing</th>\n      <th>Swallowing Difficulty</th>\n      <th>Clubbing of Finger Nails</th>\n      <th>Frequent Cold</th>\n      <th>Dry Cough</th>\n      <th>Snoring</th>\n      <th>Level</th>\n    </tr>\n  </thead>\n  <tbody>\n    <tr>\n      <th>0</th>\n      <td>0</td>\n      <td>P1</td>\n      <td>33</td>\n      <td>1</td>\n      <td>2</td>\n      <td>4</td>\n      <td>5</td>\n      <td>4</td>\n      <td>3</td>\n      <td>2</td>\n      <td>...</td>\n      <td>3</td>\n      <td>4</td>\n      <td>2</td>\n      <td>2</td>\n      <td>3</td>\n      <td>1</td>\n      <td>2</td>\n      <td>3</td>\n      <td>4</td>\n      <td>Low</td>\n    </tr>\n    <tr>\n      <th>1</th>\n      <td>1</td>\n      <td>P10</td>\n      <td>17</td>\n      <td>1</td>\n      <td>3</td>\n      <td>1</td>\n      <td>5</td>\n      <td>3</td>\n      <td>4</td>\n      <td>2</td>\n      <td>...</td>\n      <td>1</td>\n      <td>3</td>\n      <td>7</td>\n      <td>8</td>\n      <td>6</td>\n      <td>2</td>\n      <td>1</td>\n      <td>7</td>\n      <td>2</td>\n      <td>Medium</td>\n    </tr>\n    <tr>\n      <th>2</th>\n      <td>2</td>\n      <td>P100</td>\n      <td>35</td>\n      <td>1</td>\n      <td>4</td>\n      <td>5</td>\n      <td>6</td>\n      <td>5</td>\n      <td>5</td>\n      <td>4</td>\n      <td>...</td>\n      <td>8</td>\n      <td>7</td>\n      <td>9</td>\n      <td>2</td>\n      <td>1</td>\n      <td>4</td>\n      <td>6</td>\n      <td>7</td>\n      <td>2</td>\n      <td>High</td>\n    </tr>\n    <tr>\n      <th>3</th>\n      <td>3</td>\n      <td>P1000</td>\n      <td>37</td>\n      <td>1</td>\n      <td>7</td>\n      <td>7</td>\n      <td>7</td>\n      <td>7</td>\n      <td>6</td>\n      <td>7</td>\n      <td>...</td>\n      <td>4</td>\n      <td>2</td>\n      <td>3</td>\n      <td>1</td>\n      <td>4</td>\n      <td>5</td>\n      <td>6</td>\n      <td>7</td>\n      <td>5</td>\n      <td>High</td>\n    </tr>\n    <tr>\n      <th>4</th>\n      <td>4</td>\n      <td>P101</td>\n      <td>46</td>\n      <td>1</td>\n      <td>6</td>\n      <td>8</td>\n      <td>7</td>\n      <td>7</td>\n      <td>7</td>\n      <td>6</td>\n      <td>...</td>\n      <td>3</td>\n      <td>2</td>\n      <td>4</td>\n      <td>1</td>\n      <td>4</td>\n      <td>2</td>\n      <td>4</td>\n      <td>2</td>\n      <td>3</td>\n      <td>High</td>\n    </tr>\n  </tbody>\n</table>\n<p>5 rows × 26 columns</p>\n</div>"
     },
     "execution_count": 3,
     "metadata": {},
     "output_type": "execute_result"
    }
   ],
   "source": [
    "data = pd.read_csv('cancer.csv')\n",
    "data.head()"
   ],
   "metadata": {
    "collapsed": false,
    "ExecuteTime": {
     "end_time": "2024-03-31T17:32:11.275546Z",
     "start_time": "2024-03-31T17:32:11.249546Z"
    }
   },
   "execution_count": 3
  },
  {
   "cell_type": "markdown",
   "source": [
    "data.isnull().sum()"
   ],
   "metadata": {
    "collapsed": false
   }
  },
  {
   "cell_type": "code",
   "outputs": [
    {
     "name": "stdout",
     "output_type": "stream",
     "text": [
      "Before Mapping the Data:\n",
      "\n",
      "    Level\n",
      "0     low\n",
      "1  medium\n",
      "2    high\n",
      "\n",
      "     index Patient Id  Age  Gender  Air Pollution  Alcohol use  Dust Allergy  \\\n",
      "0        0         P1   33       1              2            4             5   \n",
      "1        1        P10   17       1              3            1             5   \n",
      "2        2       P100   35       1              4            5             6   \n",
      "3        3      P1000   37       1              7            7             7   \n",
      "4        4       P101   46       1              6            8             7   \n",
      "..     ...        ...  ...     ...            ...          ...           ...   \n",
      "995    995       P995   44       1              6            7             7   \n",
      "996    996       P996   37       2              6            8             7   \n",
      "997    997       P997   25       2              4            5             6   \n",
      "998    998       P998   18       2              6            8             7   \n",
      "999    999       P999   47       1              6            5             6   \n",
      "\n",
      "     OccuPational Hazards  Genetic Risk  chronic Lung Disease  ...  \\\n",
      "0                       4             3                     2  ...   \n",
      "1                       3             4                     2  ...   \n",
      "2                       5             5                     4  ...   \n",
      "3                       7             6                     7  ...   \n",
      "4                       7             7                     6  ...   \n",
      "..                    ...           ...                   ...  ...   \n",
      "995                     7             7                     6  ...   \n",
      "996                     7             7                     6  ...   \n",
      "997                     5             5                     4  ...   \n",
      "998                     7             7                     6  ...   \n",
      "999                     5             5                     4  ...   \n",
      "\n",
      "     Weight Loss  Shortness of Breath  Wheezing  Swallowing Difficulty  \\\n",
      "0              4                    2         2                      3   \n",
      "1              3                    7         8                      6   \n",
      "2              7                    9         2                      1   \n",
      "3              2                    3         1                      4   \n",
      "4              2                    4         1                      4   \n",
      "..           ...                  ...       ...                    ...   \n",
      "995            3                    2         7                      8   \n",
      "996            6                    5         7                      2   \n",
      "997            7                    9         2                      1   \n",
      "998            2                    4         1                      4   \n",
      "999            7                    9         2                      1   \n",
      "\n",
      "     Clubbing of Finger Nails  Frequent Cold  Dry Cough  Snoring   Level  \\\n",
      "0                           1              2          3        4     Low   \n",
      "1                           2              1          7        2  Medium   \n",
      "2                           4              6          7        2    High   \n",
      "3                           5              6          7        5    High   \n",
      "4                           2              4          2        3    High   \n",
      "..                        ...            ...        ...      ...     ...   \n",
      "995                         2              4          5        3    High   \n",
      "996                         4              3          1        4    High   \n",
      "997                         4              6          7        2    High   \n",
      "998                         2              4          2        3    High   \n",
      "999                         4              6          7        2    High   \n",
      "\n",
      "     level_label  \n",
      "0              0  \n",
      "1              1  \n",
      "2              2  \n",
      "3              2  \n",
      "4              2  \n",
      "..           ...  \n",
      "995            2  \n",
      "996            2  \n",
      "997            2  \n",
      "998            2  \n",
      "999            2  \n",
      "\n",
      "[1000 rows x 27 columns]\n"
     ]
    }
   ],
   "source": [
    "# Your DataFrame with categorical data\n",
    "df = pd.DataFrame({'Level': ['low', 'medium', 'high']})\n",
    "print(f\"Before Mapping the Data:\\n\\n{df}\\n\")\n",
    "\n",
    "# Define the mapping dictionary\n",
    "mapping = {'Low': 0, 'Medium': 1, 'High': 2}\n",
    "\n",
    "# Map the categorical data to numeric values\n",
    "df['level_label'] = df['Level'].map(mapping)\n",
    "\n",
    "# Load your existing DataFrame\n",
    "data = pd.read_csv('cancer.csv')\n",
    "\n",
    "# Map the 'Level' column in the existing DataFrame\n",
    "data['level_label'] = data['Level'].map(mapping)\n",
    "\n",
    "# Now, 'level_label' column is appended to your existing DataFrame 'data'\n",
    "print(data)\n"
   ],
   "metadata": {
    "collapsed": false,
    "ExecuteTime": {
     "end_time": "2024-03-31T17:32:11.301545Z",
     "start_time": "2024-03-31T17:32:11.276546Z"
    }
   },
   "execution_count": 4
  },
  {
   "cell_type": "code",
   "outputs": [
    {
     "data": {
      "text/plain": "<Axes: ylabel='Frequency'>"
     },
     "execution_count": 5,
     "metadata": {},
     "output_type": "execute_result"
    },
    {
     "data": {
      "text/plain": "<Figure size 640x480 with 1 Axes>",
      "image/png": "[encoded data removed]"
     },
     "metadata": {},
     "output_type": "display_data"
    }
   ],
   "source": [
    "data['Age'].plot.hist(bins=30)"
   ],
   "metadata": {
    "collapsed": false,
    "ExecuteTime": {
     "end_time": "2024-03-31T17:32:11.532547Z",
     "start_time": "2024-03-31T17:32:11.304550Z"
    }
   },
   "execution_count": 5
  },
  {
   "cell_type": "code",
   "outputs": [
    {
     "name": "stdout",
     "output_type": "stream",
     "text": [
      "73 14 59 6\n",
      "[14, 20, 26, 32, 38, 44, 50, 56, 62, 68, 74]\n"
     ]
    },
    {
     "data": {
      "text/plain": "<Axes: xlabel='age_category'>"
     },
     "execution_count": 13,
     "metadata": {},
     "output_type": "execute_result"
    },
    {
     "data": {
      "text/plain": "<Figure size 640x480 with 1 Axes>",
      "image/png": "[encoded data removed]"
     },
     "metadata": {},
     "output_type": "display_data"
    }
   ],
   "source": [
    "max_age = int(np.ceil(np.max(data['Age'])))\n",
    "min_age= int(np.ceil(np.min(data['Age'])))\n",
    "value = max_age - min_age\n",
    "width = int(np.round(value/10))\n",
    "print(max_age, min_age, value, width)\n",
    "intervals = [age for age in range(min_age,max_age+width,width)]\n",
    "print(intervals)\n",
    "data['age_category'] = pd.cut(data['Age'],bins=intervals)\n",
    "data['age_category']\n",
    "data.groupby('age_category')['Age'].count().plot(kind='bar')"
   ],
   "metadata": {
    "collapsed": false,
    "ExecuteTime": {
     "end_time": "2024-03-31T17:36:20.012146Z",
     "start_time": "2024-03-31T17:36:19.762147Z"
    }
   },
   "execution_count": 13
  },
  {
   "cell_type": "code",
   "outputs": [],
   "source": [],
   "metadata": {
    "collapsed": false,
    "ExecuteTime": {
     "end_time": "2024-03-31T17:32:11.543549Z",
     "start_time": "2024-03-31T17:32:11.540548Z"
    }
   },
   "execution_count": 6
  },
  {
   "cell_type": "code",
   "outputs": [],
   "source": [],
   "metadata": {
    "collapsed": false,
    "ExecuteTime": {
     "end_time": "2024-03-31T17:32:11.549546Z",
     "start_time": "2024-03-31T17:32:11.544546Z"
    }
   },
   "execution_count": 6
  }
 ],
 "metadata": {
  "kernelspec": {
   "display_name": "Python 3 (ipykernel)",
   "language": "python",
   "name": "python3"
  },
  "language_info": {
   "codemirror_mode": {
    "name": "ipython",
    "version": 3
   },
   "file_extension": ".py",
   "mimetype": "text/x-python",
   "name": "python",
   "nbconvert_exporter": "python",
   "pygments_lexer": "ipython3",
   "version": "3.8.8"
  }
 },
 "nbformat": 4,
 "nbformat_minor": 4
}
